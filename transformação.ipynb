{
 "cells": [
  {
   "cell_type": "code",
   "execution_count": 26,
   "metadata": {},
   "outputs": [
    {
     "data": {
      "text/html": [
       "<div>\n",
       "<style scoped>\n",
       "    .dataframe tbody tr th:only-of-type {\n",
       "        vertical-align: middle;\n",
       "    }\n",
       "\n",
       "    .dataframe tbody tr th {\n",
       "        vertical-align: top;\n",
       "    }\n",
       "\n",
       "    .dataframe thead th {\n",
       "        text-align: right;\n",
       "    }\n",
       "</style>\n",
       "<table border=\"1\" class=\"dataframe\">\n",
       "  <thead>\n",
       "    <tr style=\"text-align: right;\">\n",
       "      <th></th>\n",
       "      <th>ID RH</th>\n",
       "      <th>Nome</th>\n",
       "      <th>Sobrenome</th>\n",
       "      <th>Genero</th>\n",
       "      <th>Data de Nascimento</th>\n",
       "      <th>Endereço</th>\n",
       "      <th>Data de Contratacao</th>\n",
       "      <th>Data de Demissao</th>\n",
       "      <th>Salario</th>\n",
       "      <th>VR</th>\n",
       "      <th>VT</th>\n",
       "      <th>Cargo</th>\n",
       "      <th>Área</th>\n",
       "      <th>Horas Extras</th>\n",
       "      <th>Avaliação do Funcionário</th>\n",
       "    </tr>\n",
       "  </thead>\n",
       "  <tbody>\n",
       "    <tr>\n",
       "      <th>0</th>\n",
       "      <td>195</td>\n",
       "      <td>ADELINO</td>\n",
       "      <td>WERNECK</td>\n",
       "      <td>M</td>\n",
       "      <td>1997-04-27</td>\n",
       "      <td>Av. Guilherme Campos, 500 - Jardim Santa Geneb...</td>\n",
       "      <td>2015-04-23</td>\n",
       "      <td>NaT</td>\n",
       "      <td>12954</td>\n",
       "      <td>700</td>\n",
       "      <td>200</td>\n",
       "      <td>Coordenador</td>\n",
       "      <td>Administrativo</td>\n",
       "      <td>161</td>\n",
       "      <td>9.8</td>\n",
       "    </tr>\n",
       "    <tr>\n",
       "      <th>1</th>\n",
       "      <td>102</td>\n",
       "      <td>ADRIANO</td>\n",
       "      <td>SOUZA</td>\n",
       "      <td>M</td>\n",
       "      <td>1993-12-09</td>\n",
       "      <td>Av. Limeira, 722 - Areião, Piracicaba - SP, 13...</td>\n",
       "      <td>2020-12-05</td>\n",
       "      <td>NaT</td>\n",
       "      <td>1635</td>\n",
       "      <td>500</td>\n",
       "      <td>225</td>\n",
       "      <td>Estagiário</td>\n",
       "      <td>Marketing</td>\n",
       "      <td>57</td>\n",
       "      <td>7.3</td>\n",
       "    </tr>\n",
       "    <tr>\n",
       "      <th>2</th>\n",
       "      <td>342</td>\n",
       "      <td>ALFREDO</td>\n",
       "      <td>ARAUJO</td>\n",
       "      <td>M</td>\n",
       "      <td>1986-08-14</td>\n",
       "      <td>Av. Limeira, 722 - Areião, Piracicaba - SP, 13...</td>\n",
       "      <td>2020-04-02</td>\n",
       "      <td>NaT</td>\n",
       "      <td>11153</td>\n",
       "      <td>750</td>\n",
       "      <td>300</td>\n",
       "      <td>Coordenador</td>\n",
       "      <td>Marketing</td>\n",
       "      <td>70</td>\n",
       "      <td>8.7</td>\n",
       "    </tr>\n",
       "    <tr>\n",
       "      <th>3</th>\n",
       "      <td>320</td>\n",
       "      <td>ALINE</td>\n",
       "      <td>SILVA</td>\n",
       "      <td>F</td>\n",
       "      <td>1976-06-22</td>\n",
       "      <td>Av. Paulista, 1230 - Bela Vista, São Paulo - S...</td>\n",
       "      <td>2015-08-13</td>\n",
       "      <td>2021-08-12</td>\n",
       "      <td>898</td>\n",
       "      <td>500</td>\n",
       "      <td>200</td>\n",
       "      <td>Estagiário</td>\n",
       "      <td>Operações</td>\n",
       "      <td>174</td>\n",
       "      <td>7.4</td>\n",
       "    </tr>\n",
       "    <tr>\n",
       "      <th>4</th>\n",
       "      <td>88</td>\n",
       "      <td>ALINE</td>\n",
       "      <td>SOUZA</td>\n",
       "      <td>F</td>\n",
       "      <td>1981-09-04</td>\n",
       "      <td>Condomínio Sorocaba Shopping Center - Av. Dr. ...</td>\n",
       "      <td>2020-03-29</td>\n",
       "      <td>NaT</td>\n",
       "      <td>18878</td>\n",
       "      <td>500</td>\n",
       "      <td>225</td>\n",
       "      <td>Gerente</td>\n",
       "      <td>Administrativo</td>\n",
       "      <td>132</td>\n",
       "      <td>8.3</td>\n",
       "    </tr>\n",
       "  </tbody>\n",
       "</table>\n",
       "</div>"
      ],
      "text/plain": [
       "   ID RH     Nome Sobrenome Genero Data de Nascimento  \\\n",
       "0    195  ADELINO   WERNECK      M         1997-04-27   \n",
       "1    102  ADRIANO     SOUZA      M         1993-12-09   \n",
       "2    342  ALFREDO    ARAUJO      M         1986-08-14   \n",
       "3    320    ALINE     SILVA      F         1976-06-22   \n",
       "4     88    ALINE     SOUZA      F         1981-09-04   \n",
       "\n",
       "                                            Endereço Data de Contratacao  \\\n",
       "0  Av. Guilherme Campos, 500 - Jardim Santa Geneb...          2015-04-23   \n",
       "1  Av. Limeira, 722 - Areião, Piracicaba - SP, 13...          2020-12-05   \n",
       "2  Av. Limeira, 722 - Areião, Piracicaba - SP, 13...          2020-04-02   \n",
       "3  Av. Paulista, 1230 - Bela Vista, São Paulo - S...          2015-08-13   \n",
       "4  Condomínio Sorocaba Shopping Center - Av. Dr. ...          2020-03-29   \n",
       "\n",
       "  Data de Demissao  Salario   VR   VT        Cargo            Área  \\\n",
       "0              NaT    12954  700  200  Coordenador  Administrativo   \n",
       "1              NaT     1635  500  225   Estagiário       Marketing   \n",
       "2              NaT    11153  750  300  Coordenador       Marketing   \n",
       "3       2021-08-12      898  500  200   Estagiário       Operações   \n",
       "4              NaT    18878  500  225      Gerente  Administrativo   \n",
       "\n",
       "   Horas Extras  Avaliação do Funcionário  \n",
       "0           161                       9.8  \n",
       "1            57                       7.3  \n",
       "2            70                       8.7  \n",
       "3           174                       7.4  \n",
       "4           132                       8.3  "
      ]
     },
     "execution_count": 26,
     "metadata": {},
     "output_type": "execute_result"
    }
   ],
   "source": [
    "import pandas as pd\n",
    "import matplotlib .pyplot as plt\n",
    "\n",
    "#Carregar a base\n",
    "df = pd.read_excel(r\"BaseFuncionarios.xlsx\")\n",
    "\n",
    "df.head()"
   ]
  },
  {
   "cell_type": "code",
   "execution_count": 19,
   "metadata": {},
   "outputs": [
    {
     "ename": "KeyError",
     "evalue": "'Status'",
     "output_type": "error",
     "traceback": [
      "\u001b[31m---------------------------------------------------------------------------\u001b[39m",
      "\u001b[31mKeyError\u001b[39m                                  Traceback (most recent call last)",
      "\u001b[36mFile \u001b[39m\u001b[32m~\\AppData\\Roaming\\Python\\Python313\\site-packages\\pandas\\core\\indexes\\base.py:3812\u001b[39m, in \u001b[36mIndex.get_loc\u001b[39m\u001b[34m(self, key)\u001b[39m\n\u001b[32m   3811\u001b[39m \u001b[38;5;28;01mtry\u001b[39;00m:\n\u001b[32m-> \u001b[39m\u001b[32m3812\u001b[39m     \u001b[38;5;28;01mreturn\u001b[39;00m \u001b[38;5;28;43mself\u001b[39;49m\u001b[43m.\u001b[49m\u001b[43m_engine\u001b[49m\u001b[43m.\u001b[49m\u001b[43mget_loc\u001b[49m\u001b[43m(\u001b[49m\u001b[43mcasted_key\u001b[49m\u001b[43m)\u001b[49m\n\u001b[32m   3813\u001b[39m \u001b[38;5;28;01mexcept\u001b[39;00m \u001b[38;5;167;01mKeyError\u001b[39;00m \u001b[38;5;28;01mas\u001b[39;00m err:\n",
      "\u001b[36mFile \u001b[39m\u001b[32mpandas/_libs/index.pyx:167\u001b[39m, in \u001b[36mpandas._libs.index.IndexEngine.get_loc\u001b[39m\u001b[34m()\u001b[39m\n",
      "\u001b[36mFile \u001b[39m\u001b[32mpandas/_libs/index.pyx:196\u001b[39m, in \u001b[36mpandas._libs.index.IndexEngine.get_loc\u001b[39m\u001b[34m()\u001b[39m\n",
      "\u001b[36mFile \u001b[39m\u001b[32mpandas/_libs/hashtable_class_helper.pxi:7088\u001b[39m, in \u001b[36mpandas._libs.hashtable.PyObjectHashTable.get_item\u001b[39m\u001b[34m()\u001b[39m\n",
      "\u001b[36mFile \u001b[39m\u001b[32mpandas/_libs/hashtable_class_helper.pxi:7096\u001b[39m, in \u001b[36mpandas._libs.hashtable.PyObjectHashTable.get_item\u001b[39m\u001b[34m()\u001b[39m\n",
      "\u001b[31mKeyError\u001b[39m: 'Status'",
      "\nThe above exception was the direct cause of the following exception:\n",
      "\u001b[31mKeyError\u001b[39m                                  Traceback (most recent call last)",
      "\u001b[36mCell\u001b[39m\u001b[36m \u001b[39m\u001b[32mIn[19]\u001b[39m\u001b[32m, line 5\u001b[39m\n\u001b[32m      3\u001b[39m df[\u001b[33m\"\u001b[39m\u001b[33mData de Contratacao\u001b[39m\u001b[33m\"\u001b[39m] = pd.to_datetime(df[\u001b[33m\"\u001b[39m\u001b[33mData de Contratacao\u001b[39m\u001b[33m\"\u001b[39m], errors=\u001b[33m\"\u001b[39m\u001b[33mcoerce\u001b[39m\u001b[33m\"\u001b[39m)\n\u001b[32m      4\u001b[39m df[\u001b[33m\"\u001b[39m\u001b[33mData de Demissao\u001b[39m\u001b[33m\"\u001b[39m] = pd.to_datetime(df[\u001b[33m\"\u001b[39m\u001b[33mData de Demissao\u001b[39m\u001b[33m\"\u001b[39m],  errors=\u001b[33m\"\u001b[39m\u001b[33mcoerce\u001b[39m\u001b[33m\"\u001b[39m)\n\u001b[32m----> \u001b[39m\u001b[32m5\u001b[39m \u001b[43mdf\u001b[49m\u001b[43m[\u001b[49m\u001b[33;43m'\u001b[39;49m\u001b[33;43mStatus\u001b[39;49m\u001b[33;43m'\u001b[39;49m\u001b[43m]\u001b[49m.value_counts()\n",
      "\u001b[36mFile \u001b[39m\u001b[32m~\\AppData\\Roaming\\Python\\Python313\\site-packages\\pandas\\core\\frame.py:4107\u001b[39m, in \u001b[36mDataFrame.__getitem__\u001b[39m\u001b[34m(self, key)\u001b[39m\n\u001b[32m   4105\u001b[39m \u001b[38;5;28;01mif\u001b[39;00m \u001b[38;5;28mself\u001b[39m.columns.nlevels > \u001b[32m1\u001b[39m:\n\u001b[32m   4106\u001b[39m     \u001b[38;5;28;01mreturn\u001b[39;00m \u001b[38;5;28mself\u001b[39m._getitem_multilevel(key)\n\u001b[32m-> \u001b[39m\u001b[32m4107\u001b[39m indexer = \u001b[38;5;28;43mself\u001b[39;49m\u001b[43m.\u001b[49m\u001b[43mcolumns\u001b[49m\u001b[43m.\u001b[49m\u001b[43mget_loc\u001b[49m\u001b[43m(\u001b[49m\u001b[43mkey\u001b[49m\u001b[43m)\u001b[49m\n\u001b[32m   4108\u001b[39m \u001b[38;5;28;01mif\u001b[39;00m is_integer(indexer):\n\u001b[32m   4109\u001b[39m     indexer = [indexer]\n",
      "\u001b[36mFile \u001b[39m\u001b[32m~\\AppData\\Roaming\\Python\\Python313\\site-packages\\pandas\\core\\indexes\\base.py:3819\u001b[39m, in \u001b[36mIndex.get_loc\u001b[39m\u001b[34m(self, key)\u001b[39m\n\u001b[32m   3814\u001b[39m     \u001b[38;5;28;01mif\u001b[39;00m \u001b[38;5;28misinstance\u001b[39m(casted_key, \u001b[38;5;28mslice\u001b[39m) \u001b[38;5;129;01mor\u001b[39;00m (\n\u001b[32m   3815\u001b[39m         \u001b[38;5;28misinstance\u001b[39m(casted_key, abc.Iterable)\n\u001b[32m   3816\u001b[39m         \u001b[38;5;129;01mand\u001b[39;00m \u001b[38;5;28many\u001b[39m(\u001b[38;5;28misinstance\u001b[39m(x, \u001b[38;5;28mslice\u001b[39m) \u001b[38;5;28;01mfor\u001b[39;00m x \u001b[38;5;129;01min\u001b[39;00m casted_key)\n\u001b[32m   3817\u001b[39m     ):\n\u001b[32m   3818\u001b[39m         \u001b[38;5;28;01mraise\u001b[39;00m InvalidIndexError(key)\n\u001b[32m-> \u001b[39m\u001b[32m3819\u001b[39m     \u001b[38;5;28;01mraise\u001b[39;00m \u001b[38;5;167;01mKeyError\u001b[39;00m(key) \u001b[38;5;28;01mfrom\u001b[39;00m\u001b[38;5;250m \u001b[39m\u001b[34;01merr\u001b[39;00m\n\u001b[32m   3820\u001b[39m \u001b[38;5;28;01mexcept\u001b[39;00m \u001b[38;5;167;01mTypeError\u001b[39;00m:\n\u001b[32m   3821\u001b[39m     \u001b[38;5;66;03m# If we have a listlike key, _check_indexing_error will raise\u001b[39;00m\n\u001b[32m   3822\u001b[39m     \u001b[38;5;66;03m#  InvalidIndexError. Otherwise we fall through and re-raise\u001b[39;00m\n\u001b[32m   3823\u001b[39m     \u001b[38;5;66;03m#  the TypeError.\u001b[39;00m\n\u001b[32m   3824\u001b[39m     \u001b[38;5;28mself\u001b[39m._check_indexing_error(key)\n",
      "\u001b[31mKeyError\u001b[39m: 'Status'"
     ]
    }
   ],
   "source": [
    "import pandas as pd\n",
    "import matplotlib .pyplot as plt\n",
    "df[\"Data de Contratacao\"] = pd.to_datetime(df[\"Data de Contratacao\"], errors=\"coerce\")\n",
    "df[\"Data de Demissao\"] = pd.to_datetime(df[\"Data de Demissao\"],  errors=\"coerce\")\n",
    "df['Status'].value_counts()\n"
   ]
  },
  {
   "cell_type": "code",
   "execution_count": 37,
   "metadata": {},
   "outputs": [
    {
     "data": {
      "text/plain": [
       "Status\n",
       "Ativo      155\n",
       "Inativo     51\n",
       "Name: count, dtype: int64"
      ]
     },
     "execution_count": 37,
     "metadata": {},
     "output_type": "execute_result"
    }
   ],
   "source": [
    "df['Status'] = df['Data de Demissao'].isna().map({True:\"Ativo\", False:\"Inativo\"})\n",
    "df['Status'].value_counts()"
   ]
  },
  {
   "cell_type": "code",
   "execution_count": 38,
   "metadata": {},
   "outputs": [
    {
     "name": "stdout",
     "output_type": "stream",
     "text": [
      "155\n",
      "51\n"
     ]
    }
   ],
   "source": [
    "total_ativos = df[df['Status']== \"Ativo\"].shape[0]\n",
    "total_inativos = df[df['Status']== \"Inativo\"].shape[0]\n",
    "print(total_ativos)\n",
    "print(total_inativos)"
   ]
  },
  {
   "cell_type": "code",
   "execution_count": null,
   "metadata": {},
   "outputs": [
    {
     "name": "stdout",
     "output_type": "stream",
     "text": [
      "206\n"
     ]
    }
   ],
   "source": [
    "total_contratacao=df[\"Data de Contratacao\"].notna().sum()\n",
    "print (total_contratacao)"
   ]
  },
  {
   "cell_type": "code",
   "execution_count": null,
   "metadata": {},
   "outputs": [
    {
     "name": "stdout",
     "output_type": "stream",
     "text": [
      "1487553\n",
      "1487553\n"
     ]
    }
   ],
   "source": [
    "df[\"Folha Salarial\"] = df[\"Salario\"] + df[\"VT\"] + df[\"VR\"]\n",
    "folha_salarial = df[df[\"Status\"] == \"Ativo\"][\"Folha Salarial\"].sum()\n",
    "print(folha_salarial)\n",
    "\n",
    "folha_salarial = (df[\"Salario\"] + df[\"VT\"] + df[\"VR\"])[df[\"Status\"]==\"Ativo\"].sum()\n",
    "print(folha_salarial)"
   ]
  },
  {
   "cell_type": "code",
   "execution_count": null,
   "metadata": {},
   "outputs": [
    {
     "data": {
      "text/plain": [
       "Text(0.5, 0, 'Genero')"
      ]
     },
     "execution_count": 28,
     "metadata": {},
     "output_type": "execute_result"
    },
    {
     "data": {
      "image/png": "[encoded data removed]",
      "text/plain": [
       "<Figure size 640x480 with 1 Axes>"
      ]
     },
     "metadata": {},
     "output_type": "display_data"
    }
   ],
   "source": [
    "df[\"Genero\"].dropna().unique()\n",
    "df [\"Genero\"].value_counts().plot(kind=\"bar\", color=\"skyblue\")\n",
    "plt.title (\"Distribuição de gênero\")\n",
    "plt.ylabel(\"Quantidade\")\n",
    "plt.xlabel(\"Genero\")"
   ]
  },
  {
   "cell_type": "code",
   "execution_count": null,
   "metadata": {},
   "outputs": [
    {
     "name": "stdout",
     "output_type": "stream",
     "text": [
      "R$Área\n",
      "Logística         8072.312500\n",
      "Financeiro        7978.925926\n",
      "Marketing         7608.583333\n",
      "Comercial         7398.441860\n",
      "Operações         7381.650000\n",
      "Administrativo    7118.576923\n",
      "Name: Salario, dtype: float64\n"
     ]
    }
   ],
   "source": [
    "salario_area = df.groupby(\"Área\")[\"Salario\"].mean().sort_values(ascending=False)\n",
    "\n",
    "print(salario_area)"
   ]
  },
  {
   "cell_type": "code",
   "execution_count": 51,
   "metadata": {},
   "outputs": [
    {
     "data": {
      "image/png": "[encoded data removed]",
      "text/plain": [
       "<Figure size 640x480 with 1 Axes>"
      ]
     },
     "metadata": {},
     "output_type": "display_data"
    }
   ],
   "source": [
    "contratacoes_por_ano = df[\"Data de Contratacao\"].dt.year.value_counts().sort_index()\n",
    "demissoes_por_ano = df[\"Data de Demissao\"].dropna().dt.year.value_counts().sort_index()\n",
    "plt.plot(contratacoes_por_ano.index, contratacoes_por_ano.values, color='DarkBlue', label='Contratações' )\n",
    "plt.plot(demissoes_por_ano.index, demissoes_por_ano.values, 'r', label='Demissões')\n",
    "plt.xlabel('Ano')\n",
    "\n",
    "plt.legend()\n",
    "plt.title('Contratações vs Demissões ')\n",
    "plt.show()\n",
    "\n",
    "\n"
   ]
  }
 ],
 "metadata": {
  "kernelspec": {
   "display_name": "Python 3",
   "language": "python",
   "name": "python3"
  },
  "language_info": {
   "codemirror_mode": {
    "name": "ipython",
    "version": 3
   },
   "file_extension": ".py",
   "mimetype": "text/x-python",
   "name": "python",
   "nbconvert_exporter": "python",
   "pygments_lexer": "ipython3",
   "version": "3.13.2"
  }
 },
 "nbformat": 4,
 "nbformat_minor": 2
}
